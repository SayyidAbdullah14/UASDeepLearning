{
  "nbformat": 4,
  "nbformat_minor": 0,
  "metadata": {
    "colab": {
      "provenance": []
    },
    "kernelspec": {
      "name": "python3",
      "display_name": "Python 3"
    },
    "language_info": {
      "name": "python"
    }
  },
  "cells": [
    {
      "cell_type": "code",
      "execution_count": null,
      "metadata": {
        "id": "4GPrvD2po_nN"
      },
      "outputs": [],
      "source": [
        "from transformers import pipeline\n",
        "\n",
        "pl = pipeline(\"text-generation\", model=\"medalpaca/medalpaca-13b\", tokenizer=\"medalpaca/medalpaca-\n",
        "13b\")\n",
        "\n",
        "question = \"What are the symptoms of diabetes?\"\n",
        "context = \"Diabetes is a metabolic disease that causes high blood sugar. The symptoms include increased\n",
        "thirst, frequent urination, and unexplained weight loss.\"\n",
        "answer = pl(f\"Context: {context}\\n\\nQuestion: {question}\\n\\nAnswer: \")\n",
        "print(answer)"
      ]
    }
  ]
}